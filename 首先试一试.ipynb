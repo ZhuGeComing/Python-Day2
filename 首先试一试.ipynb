{
 "cells": [
  {
   "cell_type": "markdown",
   "metadata": {},
   "source": [
    "# 试一试"
   ]
  },
  {
   "cell_type": "code",
   "execution_count": 19,
   "metadata": {
    "collapsed": true
   },
   "outputs": [],
   "source": [
    "import pandas as pd\n",
    "import numpy as np\n",
    "import matplotlib.pyplot as plt"
   ]
  },
  {
   "cell_type": "code",
   "execution_count": 20,
   "metadata": {
    "collapsed": true
   },
   "outputs": [],
   "source": [
    "dataSet = [[0, 0, 0, 0, 'no'],         #数据集\n",
    "        [0, 0, 0, 1, 'no'],\n",
    "        [0, 1, 0, 1, 'yes'],\n",
    "        [0, 1, 1, 0, 'yes'],\n",
    "        [0, 0, 0, 0, 'no'],\n",
    "        [1, 0, 0, 0, 'no'],\n",
    "        [1, 0, 0, 1, 'no'],\n",
    "        [1, 1, 1, 1, 'yes'],\n",
    "        [1, 0, 1, 2, 'yes'],\n",
    "        [1, 0, 1, 2, 'yes'],\n",
    "        [2, 0, 1, 2, 'yes'],\n",
    "        [2, 0, 1, 1, 'yes'],\n",
    "        [2, 1, 0, 1, 'yes'],\n",
    "        [2, 1, 0, 2, 'yes'],\n",
    "        [2, 0, 0, 0, 'no']]\n",
    "labels = ['年龄', '有工作', '有自己的房子', '信贷情况']"
   ]
  },
  {
   "cell_type": "code",
   "execution_count": 21,
   "metadata": {
    "collapsed": false
   },
   "outputs": [
    {
     "name": "stdout",
     "output_type": "stream",
     "text": [
      "['no' 'no' 'yes' 'yes']\n",
      "['no', 'no', 'yes', 'yes']\n"
     ]
    }
   ],
   "source": [
    "from sklearn.tree import DecisionTreeClassifier, export_graphviz\n",
    "from sklearn.cross_validation import train_test_split\n",
    "X_train, X_test, y_train, y_test = train_test_split([i[:4] for i in dataSet], [i[4] for i in dataSet])\n",
    "clf = DecisionTreeClassifier()\n",
    "clf.fit(X_train, y_train)\n",
    "print(clf.predict(X_test))\n",
    "print(y_test)"
   ]
  },
  {
   "cell_type": "code",
   "execution_count": 22,
   "metadata": {
    "collapsed": true
   },
   "outputs": [],
   "source": [
    "with open('test.dot', 'w') as f:\n",
    "    export_graphviz(clf, out_file=f)\n",
    "#dot -Tpdf iris.dot -o iris.pdf"
   ]
  },
  {
   "cell_type": "code",
   "execution_count": 24,
   "metadata": {
    "collapsed": false
   },
   "outputs": [
    {
     "name": "stdout",
     "output_type": "stream",
     "text": [
      "             precision    recall  f1-score   support\n",
      "\n",
      "         no       1.00      1.00      1.00         2\n",
      "        yes       1.00      1.00      1.00         2\n",
      "\n",
      "avg / total       1.00      1.00      1.00         4\n",
      "\n"
     ]
    }
   ],
   "source": [
    "from sklearn.metrics import classification_report\n",
    "print(classification_report(clf.predict(X_test), y_test))"
   ]
  }
 ],
 "metadata": {
  "anaconda-cloud": {},
  "kernelspec": {
   "display_name": "Python [conda root]",
   "language": "python",
   "name": "conda-root-py"
  },
  "language_info": {
   "codemirror_mode": {
    "name": "ipython",
    "version": 3
   },
   "file_extension": ".py",
   "mimetype": "text/x-python",
   "name": "python",
   "nbconvert_exporter": "python",
   "pygments_lexer": "ipython3",
   "version": "3.5.2"
  }
 },
 "nbformat": 4,
 "nbformat_minor": 1
}
